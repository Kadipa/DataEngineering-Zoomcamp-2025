{
 "cells": [
  {
   "cell_type": "code",
   "execution_count": 1,
   "metadata": {},
   "outputs": [
    {
     "name": "stderr",
     "output_type": "stream",
     "text": [
      "Downloading NYC Taxi Data:  17%|█▋        | 1/6 [00:13<01:05, 13.06s/it]"
     ]
    },
    {
     "name": "stdout",
     "output_type": "stream",
     "text": [
      "✅ 2024-01 data saved at nyc_taxi_data/yellow_tripdata_2024-01.parquet\n"
     ]
    },
    {
     "name": "stderr",
     "output_type": "stream",
     "text": [
      "Downloading NYC Taxi Data:  33%|███▎      | 2/6 [00:26<00:54, 13.57s/it]"
     ]
    },
    {
     "name": "stdout",
     "output_type": "stream",
     "text": [
      "✅ 2024-02 data saved at nyc_taxi_data/yellow_tripdata_2024-02.parquet\n"
     ]
    },
    {
     "name": "stderr",
     "output_type": "stream",
     "text": [
      "Downloading NYC Taxi Data:  50%|█████     | 3/6 [00:46<00:48, 16.24s/it]"
     ]
    },
    {
     "name": "stdout",
     "output_type": "stream",
     "text": [
      "✅ 2024-03 data saved at nyc_taxi_data/yellow_tripdata_2024-03.parquet\n"
     ]
    },
    {
     "name": "stderr",
     "output_type": "stream",
     "text": [
      "Downloading NYC Taxi Data:  67%|██████▋   | 4/6 [01:03<00:33, 16.77s/it]"
     ]
    },
    {
     "name": "stdout",
     "output_type": "stream",
     "text": [
      "✅ 2024-04 data saved at nyc_taxi_data/yellow_tripdata_2024-04.parquet\n"
     ]
    },
    {
     "name": "stderr",
     "output_type": "stream",
     "text": [
      "Downloading NYC Taxi Data:  83%|████████▎ | 5/6 [01:19<00:16, 16.21s/it]"
     ]
    },
    {
     "name": "stdout",
     "output_type": "stream",
     "text": [
      "✅ 2024-05 data saved at nyc_taxi_data/yellow_tripdata_2024-05.parquet\n"
     ]
    },
    {
     "name": "stderr",
     "output_type": "stream",
     "text": [
      "Downloading NYC Taxi Data: 100%|██████████| 6/6 [01:40<00:00, 16.79s/it]"
     ]
    },
    {
     "name": "stdout",
     "output_type": "stream",
     "text": [
      "✅ 2024-06 data saved at nyc_taxi_data/yellow_tripdata_2024-06.parquet\n",
      "✅ All files downloaded and saved as Parquet.\n"
     ]
    },
    {
     "name": "stderr",
     "output_type": "stream",
     "text": [
      "\n"
     ]
    }
   ],
   "source": [
    "import os\n",
    "import requests\n",
    "import pandas as pd\n",
    "import pyarrow.parquet as pq\n",
    "import pyarrow as pa\n",
    "from tqdm import tqdm\n",
    "\n",
    "# NYC Taxi Data Base URL\n",
    "BASE_URL = \"https://d37ci6vzurychx.cloudfront.net/trip-data/yellow_tripdata_\"\n",
    "\n",
    "# Save directory\n",
    "SAVE_DIR = \"nyc_taxi_data\"\n",
    "os.makedirs(SAVE_DIR, exist_ok=True)\n",
    "\n",
    "# Months to Download\n",
    "months = [\"2024-01\", \"2024-02\", \"2024-03\", \"2024-04\", \"2024-05\", \"2024-06\"]\n",
    "\n",
    "for month in tqdm(months, desc=\"Downloading NYC Taxi Data\"):\n",
    "    file_url = f\"{BASE_URL}{month}.parquet\"\n",
    "    save_path = os.path.join(SAVE_DIR, f\"yellow_tripdata_{month}.parquet\")\n",
    "\n",
    "    # Download the file\n",
    "    response = requests.get(file_url, stream=True)\n",
    "    if response.status_code == 200:\n",
    "        with open(save_path, \"wb\") as file:\n",
    "            for chunk in response.iter_content(chunk_size=1024):\n",
    "                file.write(chunk)\n",
    "        print(f\"✅ {month} data saved at {save_path}\")\n",
    "    else:\n",
    "        print(f\"❌ Failed to download {month}\")\n",
    "\n",
    "print(\"✅ All files downloaded and saved as Parquet.\")\n"
   ]
  },
  {
   "cell_type": "code",
   "execution_count": 1,
   "metadata": {},
   "outputs": [
    {
     "name": "stdout",
     "output_type": "stream",
     "text": [
      "✅ Total records in 2024 Yellow Taxi Data: 20332093\n"
     ]
    }
   ],
   "source": [
    "import pandas as pd\n",
    "import os\n",
    "\n",
    "# Directory where Parquet files are stored\n",
    "DATA_DIR = \"nyc_taxi_data\"\n",
    "\n",
    "# List all parquet files\n",
    "parquet_files = [os.path.join(DATA_DIR, f) for f in os.listdir(DATA_DIR) if f.endswith(\".parquet\")]\n",
    "\n",
    "# Count total records\n",
    "total_records = sum(pd.read_parquet(file).shape[0] for file in parquet_files)\n",
    "\n",
    "print(f\"✅ Total records in 2024 Yellow Taxi Data: {total_records}\")\n"
   ]
  },
  {
   "cell_type": "code",
   "execution_count": 3,
   "metadata": {},
   "outputs": [
    {
     "name": "stdout",
     "output_type": "stream",
     "text": [
      "✅ Distinct PULocationID count: 262\n"
     ]
    }
   ],
   "source": [
    "import pandas as pd\n",
    "import os\n",
    "\n",
    "# Directory where Parquet files are stored\n",
    "DATA_DIR = \"nyc_taxi_data\"\n",
    "\n",
    "# List all Parquet files\n",
    "parquet_files = [os.path.join(DATA_DIR, f) for f in os.listdir(DATA_DIR) if f.endswith(\".parquet\")]\n",
    "\n",
    "# Load data and count distinct PULocationIDs\n",
    "distinct_pu_set = set()\n",
    "for file in parquet_files:\n",
    "    df = pd.read_parquet(file, columns=[\"PULocationID\"])  # Load only the needed column\n",
    "    distinct_pu_set.update(df[\"PULocationID\"].dropna().unique())\n",
    "\n",
    "print(f\"✅ Distinct PULocationID count: {len(distinct_pu_set)}\")\n"
   ]
  }
 ],
 "metadata": {
  "kernelspec": {
   "display_name": "pythonEnv",
   "language": "python",
   "name": "python3"
  },
  "language_info": {
   "codemirror_mode": {
    "name": "ipython",
    "version": 3
   },
   "file_extension": ".py",
   "mimetype": "text/x-python",
   "name": "python",
   "nbconvert_exporter": "python",
   "pygments_lexer": "ipython3",
   "version": "3.10.14"
  },
  "orig_nbformat": 4
 },
 "nbformat": 4,
 "nbformat_minor": 2
}

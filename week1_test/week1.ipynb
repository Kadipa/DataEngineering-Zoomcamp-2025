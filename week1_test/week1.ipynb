{
 "cells": [
  {
   "cell_type": "code",
   "execution_count": 2,
   "metadata": {},
   "outputs": [
    {
     "name": "stdout",
     "output_type": "stream",
     "text": [
      "pip 23.3.1 from /opt/anaconda3/envs/pythonEnv/lib/python3.10/site-packages/pip (python 3.10)\n",
      "Note: you may need to restart the kernel to use updated packages.\n"
     ]
    }
   ],
   "source": [
    "pip --version"
   ]
  },
  {
   "cell_type": "code",
   "execution_count": 12,
   "metadata": {},
   "outputs": [
    {
     "name": "stderr",
     "output_type": "stream",
     "text": [
      "/var/folders/1n/02s84_r56lbg_3y_wrv2l12w0000gn/T/ipykernel_1952/3044575081.py:5: DtypeWarning: Columns (3) have mixed types. Specify dtype option on import or set low_memory=False.\n",
      "  df = pd.read_csv(file_path, compression=\"gzip\")\n"
     ]
    },
    {
     "data": {
      "text/plain": [
       "{'Up to 1 mile': 104830,\n",
       " '1 (exclusive) to 3 miles': 197741,\n",
       " '3 (exclusive) to 7 miles': 109397,\n",
       " '7 (exclusive) to 10 miles': 27686,\n",
       " 'Over 10 miles': 35201}"
      ]
     },
     "execution_count": 12,
     "metadata": {},
     "output_type": "execute_result"
    }
   ],
   "source": [
    "import pandas as pd\n",
    "\n",
    "# Load the data\n",
    "file_path = \"green_tripdata_2019-10.csv.gz\"\n",
    "df = pd.read_csv(file_path, compression=\"gzip\")\n",
    "\n",
    "# Convert pickup datetime to datetime type\n",
    "df['lpep_pickup_datetime'] = pd.to_datetime(df['lpep_pickup_datetime'])\n",
    "\n",
    "# Filter trips in the specified time period\n",
    "start_date = \"2019-10-01\"\n",
    "end_date = \"2019-11-01\"\n",
    "filtered_df = df[(df['lpep_pickup_datetime'] >= start_date) & (df['lpep_pickup_datetime'] < end_date)]\n",
    "\n",
    "# Categorize distances\n",
    "distance_ranges = {\n",
    "    \"Up to 1 mile\": (filtered_df['trip_distance'] <= 1),\n",
    "    \"1 (exclusive) to 3 miles\": (filtered_df['trip_distance'] > 1) & (filtered_df['trip_distance'] <= 3),\n",
    "    \"3 (exclusive) to 7 miles\": (filtered_df['trip_distance'] > 3) & (filtered_df['trip_distance'] <= 7),\n",
    "    \"7 (exclusive) to 10 miles\": (filtered_df['trip_distance'] > 7) & (filtered_df['trip_distance'] <= 10),\n",
    "    \"Over 10 miles\": (filtered_df['trip_distance'] > 10),\n",
    "}\n",
    "\n",
    "# Count trips in each category\n",
    "trip_counts = {category: filtered_df[condition].shape[0] for category, condition in distance_ranges.items()}\n",
    "\n",
    "trip_counts\n"
   ]
  },
  {
   "cell_type": "code",
   "execution_count": 1,
   "metadata": {},
   "outputs": [
    {
     "name": "stderr",
     "output_type": "stream",
     "text": [
      "/var/folders/1n/02s84_r56lbg_3y_wrv2l12w0000gn/T/ipykernel_30353/3975969145.py:5: DtypeWarning: Columns (3) have mixed types. Specify dtype option on import or set low_memory=False.\n",
      "  df = pd.read_csv(file_path, compression=\"gzip\")\n"
     ]
    },
    {
     "name": "stdout",
     "output_type": "stream",
     "text": [
      "Trip counts by distance range:\n",
      "Up to 1 mile: 104802\n",
      "1 (exclusive) to 3 miles: 198924\n",
      "3 (exclusive) to 7 miles: 109603\n",
      "7 (exclusive) to 10 miles: 27678\n",
      "Over 10 miles: 35189\n"
     ]
    }
   ],
   "source": [
    "import pandas as pd\n",
    "\n",
    "# Load the data\n",
    "file_path = \"green_tripdata_2019-10.csv.gz\"  # Path to the dataset\n",
    "df = pd.read_csv(file_path, compression=\"gzip\")\n",
    "\n",
    "# Convert pickup and dropoff datetime columns to datetime type\n",
    "df['lpep_pickup_datetime'] = pd.to_datetime(df['lpep_pickup_datetime'])\n",
    "df['lpep_dropoff_datetime'] = pd.to_datetime(df['lpep_dropoff_datetime'])\n",
    "\n",
    "# Filter trips within the specified time period based on drop-off datetime\n",
    "start_date = \"2019-10-01\"\n",
    "end_date = \"2019-11-01\"\n",
    "filtered_df = df[(df['lpep_dropoff_datetime'] >= start_date) & (df['lpep_dropoff_datetime'] < end_date)]\n",
    "\n",
    "# Categorize distances into ranges\n",
    "distance_ranges = {\n",
    "    \"Up to 1 mile\": (filtered_df['trip_distance'] <= 1),\n",
    "    \"1 (exclusive) to 3 miles\": (filtered_df['trip_distance'] > 1) & (filtered_df['trip_distance'] <= 3),\n",
    "    \"3 (exclusive) to 7 miles\": (filtered_df['trip_distance'] > 3) & (filtered_df['trip_distance'] <= 7),\n",
    "    \"7 (exclusive) to 10 miles\": (filtered_df['trip_distance'] > 7) & (filtered_df['trip_distance'] <= 10),\n",
    "    \"Over 10 miles\": (filtered_df['trip_distance'] > 10),\n",
    "}\n",
    "\n",
    "# Count trips in each distance category\n",
    "trip_counts = {category: filtered_df[condition].shape[0] for category, condition in distance_ranges.items()}\n",
    "\n",
    "# Output the trip counts for each category\n",
    "print(\"Trip counts by distance range:\")\n",
    "for category, count in trip_counts.items():\n",
    "    print(f\"{category}: {count}\")\n"
   ]
  },
  {
   "cell_type": "code",
   "execution_count": 2,
   "metadata": {},
   "outputs": [
    {
     "name": "stderr",
     "output_type": "stream",
     "text": [
      "/var/folders/1n/02s84_r56lbg_3y_wrv2l12w0000gn/T/ipykernel_1952/1990959609.py:5: DtypeWarning: Columns (3) have mixed types. Specify dtype option on import or set low_memory=False.\n",
      "  df = pd.read_csv(file_path, compression=\"gzip\")\n"
     ]
    },
    {
     "data": {
      "text/plain": [
       "pickup_date      2019-10-31\n",
       "trip_distance        515.89\n",
       "Name: 36, dtype: object"
      ]
     },
     "execution_count": 2,
     "metadata": {},
     "output_type": "execute_result"
    }
   ],
   "source": [
    "import pandas as pd\n",
    "\n",
    "# Load the data\n",
    "file_path = \"green_tripdata_2019-10.csv.gz\"\n",
    "df = pd.read_csv(file_path, compression=\"gzip\")\n",
    "\n",
    "# Convert pickup datetime to datetime format and extract the date\n",
    "df['lpep_pickup_datetime'] = pd.to_datetime(df['lpep_pickup_datetime'])\n",
    "df['pickup_date'] = df['lpep_pickup_datetime'].dt.date\n",
    "\n",
    "# Find the longest trip for each day\n",
    "longest_trip_per_day = df.groupby('pickup_date')['trip_distance'].max().reset_index()\n",
    "\n",
    "# Find the day with the longest trip\n",
    "longest_trip_day = longest_trip_per_day.loc[longest_trip_per_day['trip_distance'].idxmax()]\n",
    "longest_trip_day\n"
   ]
  },
  {
   "cell_type": "code",
   "execution_count": 7,
   "metadata": {},
   "outputs": [
    {
     "name": "stdout",
     "output_type": "stream",
     "text": [
      "\n",
      "Top 3 pickup locations with over 13,000 total_amount on 2019-10-18:\n",
      "     PULocationID                 Zone  total_amount\n",
      "63             74    East Harlem North      18686.68\n",
      "64             75    East Harlem South      16797.26\n",
      "146           166  Morningside Heights      13029.79\n"
     ]
    }
   ],
   "source": [
    "import pandas as pd\n",
    "\n",
    "# Load the green trip data with dtype set to avoid mixed types warning\n",
    "file_path_trip_data = \"green_tripdata_2019-10.csv.gz\"\n",
    "df_trip_data = pd.read_csv(file_path_trip_data, compression=\"gzip\", low_memory=False)\n",
    "\n",
    "# Convert pickup datetime to datetime format for filtering by date\n",
    "df_trip_data['lpep_pickup_datetime'] = pd.to_datetime(df_trip_data['lpep_pickup_datetime'])\n",
    "\n",
    "# Filter data for trips on 2019-10-18\n",
    "filtered_trip_data = df_trip_data[df_trip_data['lpep_pickup_datetime'].dt.date == pd.to_datetime('2019-10-18').date()]\n",
    "\n",
    "# Group by PULocationID and sum the total_amount\n",
    "pickup_totals = filtered_trip_data.groupby('PULocationID')['total_amount'].sum().reset_index()\n",
    "\n",
    "# Load the taxi zone lookup data\n",
    "file_path_taxi_zone = \"taxi_zone_lookup.csv\"\n",
    "df_taxi_zone = pd.read_csv(file_path_taxi_zone)\n",
    "\n",
    "# Merge with taxi_zone_lookup to get the corresponding zone names (based on 'LocationID')\n",
    "merged_data = pd.merge(pickup_totals, df_taxi_zone, how='left', left_on='PULocationID', right_on='LocationID')\n",
    "\n",
    "# Filter zones with total_amount > 13,000\n",
    "filtered_zones = merged_data[merged_data['total_amount'] > 13000]\n",
    "\n",
    "# Sort by total_amount in descending order and get the top 3 zones\n",
    "top_3_zones = filtered_zones.sort_values(by='total_amount', ascending=False).head(3)\n",
    "\n",
    "# Display the top 3 zones\n",
    "print(\"\\nTop 3 pickup locations with over 13,000 total_amount on 2019-10-18:\")\n",
    "print(top_3_zones[['PULocationID', 'Zone', 'total_amount']])\n"
   ]
  },
  {
   "cell_type": "code",
   "execution_count": 11,
   "metadata": {},
   "outputs": [
    {
     "name": "stderr",
     "output_type": "stream",
     "text": [
      "/var/folders/1n/02s84_r56lbg_3y_wrv2l12w0000gn/T/ipykernel_1952/3975468961.py:8: DtypeWarning: Columns (3) have mixed types. Specify dtype option on import or set low_memory=False.\n",
      "  df_trip_data = pd.read_csv(file_path_trip_data, compression=\"gzip\")\n"
     ]
    },
    {
     "name": "stdout",
     "output_type": "stream",
     "text": [
      "The drop-off zone with the largest tip is: JFK Airport with a tip of 87.3\n"
     ]
    }
   ],
   "source": [
    "import pandas as pd\n",
    "\n",
    "# Load your trip data and taxi zone lookup data\n",
    "file_path_trip_data = \"green_tripdata_2019-10.csv.gz\"\n",
    "file_path_taxi_zone = \"taxi_zone_lookup.csv\"\n",
    "\n",
    "# Read the data\n",
    "df_trip_data = pd.read_csv(file_path_trip_data, compression=\"gzip\")\n",
    "df_taxi_zone = pd.read_csv(file_path_taxi_zone)\n",
    "\n",
    "# Convert the pickup datetime column to datetime type\n",
    "df_trip_data['lpep_pickup_datetime'] = pd.to_datetime(df_trip_data['lpep_pickup_datetime'])\n",
    "\n",
    "# Filter the data for October 2019\n",
    "october_data = df_trip_data[(df_trip_data['lpep_pickup_datetime'].dt.month == 10) & \n",
    "                            (df_trip_data['lpep_pickup_datetime'].dt.year == 2019)]\n",
    "\n",
    "# Merge the data with taxi zone information for both pickup and dropoff zones\n",
    "merged_data = pd.merge(october_data, df_taxi_zone, how='left', left_on='PULocationID', right_on='LocationID')\n",
    "merged_data = pd.merge(merged_data, df_taxi_zone, how='left', left_on='DOLocationID', right_on='LocationID', suffixes=('_pickup', '_dropoff'))\n",
    "\n",
    "# Filter trips with pickup zone \"East Harlem North\"\n",
    "east_harlem_north_data = merged_data[merged_data['Zone_pickup'] == 'East Harlem North']\n",
    "\n",
    "# Find the trip with the largest tip amount for each drop-off zone\n",
    "largest_tip_per_dropoff_zone = east_harlem_north_data.loc[east_harlem_north_data.groupby('DOLocationID')['tip_amount'].idxmax()]\n",
    "\n",
    "# Now merge again to get the drop-off zone name\n",
    "largest_tip_zone = pd.merge(largest_tip_per_dropoff_zone, df_taxi_zone[['LocationID', 'Zone']], \n",
    "                            how='left', left_on='DOLocationID', right_on='LocationID')\n",
    "\n",
    "# Sort to get the drop-off zone with the largest tip\n",
    "largest_tip_zone_name = largest_tip_zone[['Zone', 'tip_amount']].sort_values(by='tip_amount', ascending=False).iloc[0]\n",
    "\n",
    "print(f\"The drop-off zone with the largest tip is: {largest_tip_zone_name['Zone']} with a tip of {largest_tip_zone_name['tip_amount']}\")\n"
   ]
  }
 ],
 "metadata": {
  "kernelspec": {
   "display_name": "pythonEnv",
   "language": "python",
   "name": "python3"
  },
  "language_info": {
   "codemirror_mode": {
    "name": "ipython",
    "version": 3
   },
   "file_extension": ".py",
   "mimetype": "text/x-python",
   "name": "python",
   "nbconvert_exporter": "python",
   "pygments_lexer": "ipython3",
   "version": "3.10.14"
  },
  "orig_nbformat": 4
 },
 "nbformat": 4,
 "nbformat_minor": 2
}
